{
 "cells": [
  {
   "cell_type": "markdown",
   "id": "38f0f59f",
   "metadata": {},
   "source": [
    "Q1. Write a program to compute the real roots of the equation $ax^2+bx+c.$"
   ]
  },
  {
   "cell_type": "code",
   "execution_count": 1,
   "id": "d8a0c3b4",
   "metadata": {},
   "outputs": [
    {
     "name": "stdout",
     "output_type": "stream",
     "text": [
      "enter the coeffecient for x^2: 3\n",
      "enter the coeffecient for x: 6\n",
      "enter the constant: 4\n",
      "the quadratic equation is 3*x^2+6*x+4\n",
      "the roots are: \n",
      "this equation has no real roots \n"
     ]
    }
   ],
   "source": [
    "import math\n",
    "def rootsOfEq(a,b,c):\n",
    "    \"\"\"formula is (-b+-sqrt(b^2-4ac))/2a for any given quadratic equation\n",
    "    date: 4/8/22\n",
    "    author: Aharneish Abburu\"\"\"\n",
    "    d=b**2\n",
    "    e=4*a*c\n",
    "    f=d-e\n",
    "    if(d-e<0):\n",
    "        print(\"this equation has no real roots \")\n",
    "        return\n",
    "    root1=(-b+math.sqrt(d-e))/2*a\n",
    "    root2=(-b-math.sqrt(d-e))/2*a\n",
    "    if root1==0:\n",
    "        if root2==-0:\n",
    "            root1,root2=0\n",
    "    print(f\"the first root for the quadratic equation is: {root1}\")\n",
    "    print(f\"the second root for the quadratic equation is: {root2}\")\n",
    "a=int(input(\"enter the coeffecient for x^2: \"))\n",
    "b=int(input(\"enter the coeffecient for x: \"))\n",
    "c=int(input(\"enter the constant: \"))\n",
    "print(f\"the quadratic equation is {a}*x^2+{b}*x+{c}\")\n",
    "print(\"the roots are: \")\n",
    "rootsOfEq(a,b,c)"
   ]
  },
  {
   "cell_type": "markdown",
   "id": "5e7a22aa",
   "metadata": {},
   "source": [
    "Q2. Write a program to compute the probability $P(X=x),$ where $X\\sim Bin(n=10,p=0.2)$"
   ]
  },
  {
   "cell_type": "code",
   "execution_count": 16,
   "id": "a24e0f05",
   "metadata": {},
   "outputs": [
    {
     "name": "stdout",
     "output_type": "stream",
     "text": [
      "enter the number of independent bernoulli trails: 10\n",
      "enter the probability of success should lie between 0 and 1: 0.5\n",
      "enter the x for P(X=x) 12\n",
      "P(X=12)=0.0\n"
     ]
    }
   ],
   "source": [
    "import math\n",
    "#ncx*p^x(1-p)^(n-x)\n",
    "def factorial(x):\n",
    "    \"\"\"computes the factorial of the number\n",
    "    outputs the factorial \n",
    "    input number x\n",
    "    date: 4/8/2022\n",
    "    author: Aharneish Abburu\"\"\"\n",
    "    fact=1\n",
    "    if x<0:\n",
    "        return math.inf\n",
    "    if x==0:\n",
    "        return 1\n",
    "    else:\n",
    "        return(x*factorial(x-1))\n",
    "def binomial_prob(n=10,p=0.2):\n",
    "    \"\"\"program to compute the probability P(X=x) where X is a binomial function,\n",
    "    n is the number of bernoulli trails\n",
    "    p is the probability of success\n",
    "    default values for n and p are 10 and 0.2 respectively\n",
    "    date: 4/8/2022\n",
    "    author: Aharneish Abburu\"\"\"\n",
    "    if p>0 and p<1:\n",
    "        x=int(input(\"enter the x for P(X=x) \"))\n",
    "        combination=factorial(n)/(factorial(n-x)*factorial(x))\n",
    "        ans=combination*((p)**x)*((1-p)**(n-x))\n",
    "        print(f\"P(X={x})={ans}\")\n",
    "    else:\n",
    "        print(\"probability cannot be more than 1/ less than 0.Please check the probability of success value!\")\n",
    "n=int(input(\"enter the number of independent bernoulli trails: \"))\n",
    "p=float(input(\"enter the probability of success should lie between 0 and 1: \"))\n",
    "binomial_prob(n,p)"
   ]
  },
  {
   "cell_type": "markdown",
   "id": "70948daf",
   "metadata": {},
   "source": [
    "Q3. Lets say you are running a 5 km race. Write a program that,\n",
    "\n",
    "Upon completing each 1 km asks you \"are you tired?\"\n",
    "\n",
    "If you reply \"yes\" then it should break and print \"you didn't finish the race\"\n",
    "\n",
    "If you reply \"no\" then it should continue and ask \"are you tired\" on every km\n",
    "\n",
    "If you finish all 5 km then it should print congratulations message\n"
   ]
  },
  {
   "cell_type": "code",
   "execution_count": 4,
   "id": "6729ac85",
   "metadata": {},
   "outputs": [
    {
     "name": "stdout",
     "output_type": "stream",
     "text": [
      "you have completed 1km!Are you tired? (answer in 'yes'or 'no')yes\n",
      "You did not complete the race!\n"
     ]
    }
   ],
   "source": [
    "km=0\n",
    "while km<5:\n",
    "        k=input(f\"you have completed {km+1}km!Are you tired? (answer in 'yes'or 'no')\")\n",
    "        if k=='yes':\n",
    "            print(\"You did not complete the race!\")\n",
    "            break\n",
    "        else:\n",
    "            km+=1\n",
    "            continue\n",
    "if km==5:\n",
    "    print(\"Congratulations you have successfully completed 5km race!!\")\n",
    "    "
   ]
  },
  {
   "cell_type": "markdown",
   "id": "270238ac",
   "metadata": {},
   "source": [
    "Q4. Write a function `tip_calc(bill, party)`, where bill is the total cost of a meal and party is the number of people in the group. The tip should be calculated as 15% for a party strictly less than six people, 18% for a party strictly less than eight, 20% for a party less than 11, and 25% for a party 11 or more. A couple of test cases are given below."
   ]
  },
  {
   "cell_type": "code",
   "execution_count": 7,
   "id": "66ab4954",
   "metadata": {},
   "outputs": [
    {
     "name": "stdout",
     "output_type": "stream",
     "text": [
      "enter the bill ammount: 2500\n",
      "enter the number of people in the group: 9\n",
      "You have to tip 500.0 rupees\n"
     ]
    }
   ],
   "source": [
    "def tip_calc(bill,party):\n",
    "    \"\"\"summary: bill is the total cost of a meal and party is the number of people in the group. \n",
    "    The tip should be calculated as 15% for a party strictly less than six people, 18% for a party strictly less than eight, 20% for a party less than 11,\n",
    "     and 25% for a party 11 or more.\n",
    "       date: 4/8/2022\n",
    "       author: Aharneish Abburu\"\"\"\n",
    "    if party<=6:\n",
    "        tip=bill*(15/100)\n",
    "    elif party<=8:\n",
    "        tip=bill*(18/100)\n",
    "    elif party<=11:\n",
    "        tip=bill*(20/100)\n",
    "    else:\n",
    "        tip=bill*(25/100)\n",
    "    print(f\"You have to tip {tip} rupees\")\n",
    "bill=float(input(\"enter the bill ammount: \"))\n",
    "party=int(input(\"enter the number of people in the group: \"))\n",
    "tip_calc(bill,party)"
   ]
  },
  {
   "cell_type": "markdown",
   "id": "20ca12d1",
   "metadata": {},
   "source": [
    "Q5. Write a function `mult_operation(a,b,operation)`. The input argument, operation, is a string that is either 'plus', 'minus', 'mult', 'div', or 'pow', and the function should compute: a+b, a−b, a∗b, a/b, and ab for the respective values for operation. A couple of test cases are given below."
   ]
  },
  {
   "cell_type": "code",
   "execution_count": 10,
   "id": "0fa9d5c2",
   "metadata": {},
   "outputs": [
    {
     "name": "stdout",
     "output_type": "stream",
     "text": [
      "enter the number: 25\n",
      "enter the number: 36\n",
      "enter the operation you want to perform(example 'plus','minus','mult','div','pow') plus\n",
      "a+b=61\n"
     ]
    }
   ],
   "source": [
    "def mult_operation(a,b,operation):\n",
    "    \"\"\"\n",
    "    summary:The input argument, operation, is a string that is either 'plus', 'minus', 'mult', 'div', or 'pow',\n",
    "     and the function should compute: a+b, a−b, a∗b, a/b, and ab for the respective values for operation.\n",
    "    date:4/8/2022\n",
    "    author:Aharneish Abburu\n",
    "    \"\"\"\n",
    "    ans=1\n",
    "    if operation=='plus':\n",
    "        ans=a+b\n",
    "        print(f\"a+b={ans}\")\n",
    "    elif operation=='minus':\n",
    "        ans=a-b\n",
    "        print(f\"a-b={ans}\")\n",
    "    elif operation=='mult':\n",
    "        ans=a*b\n",
    "        print(f\"a*b={ans}\")\n",
    "    elif operation=='div':\n",
    "        ans=a/b\n",
    "        print(f\"a/b={ans}\")\n",
    "    elif operation=='pow':\n",
    "        for i in range(0,b+1):\n",
    "            ans=ans*a\n",
    "        print(f\"a^b={ans}\")\n",
    "a=int(input(\"enter the number: \"))\n",
    "b=int(input(\"enter the number: \"))\n",
    "op=input(\"enter the operation you want to perform(example 'plus','minus','mult','div','pow') \")\n",
    "mult_operation(a,b,op)"
   ]
  },
  {
   "cell_type": "markdown",
   "id": "c7d92405",
   "metadata": {},
   "source": [
    "Q6. Consider a triangle with vertices at (0,0), (1,0), and (0,1). Write a function `inside_triangle(x,y)` where the output is the string ‘outside’ if the point (x,y) is outside of the triangle, ‘border’ if the point is exactly on the border of the triangle, and ‘inside’ if the point is on the inside of the triangle."
   ]
  },
  {
   "cell_type": "code",
   "execution_count": 7,
   "id": "a67f9eca",
   "metadata": {},
   "outputs": [
    {
     "name": "stdout",
     "output_type": "stream",
     "text": [
      "enter the point for x axis 0.5\n",
      "enter the point for y axis 0.2\n",
      "the point lies inside the triangle\n"
     ]
    }
   ],
   "source": [
    "def inside_triangle(x,y):\n",
    "    \"\"\"Consider a triangle with vertices at (0,0), (1,0), and (0,1).\n",
    "       where the output is the string ‘outside’ if the point (x,y) is outside of the triangle,\n",
    "        ‘border’ if the point is exactly on the border of the triangle, and ‘inside’ if the point is on the inside of the triangle.\n",
    "       date: 8/4/2022\n",
    "       author: Aharneish Abburu\"\"\"\n",
    "    if x+y==1 or x==0 or y==0:\n",
    "        print(\"the point is on the border of the triangle\")\n",
    "        return\n",
    "    elif x+y<1 and x>0 and y>0:\n",
    "        print(\"the point lies inside the triangle\")\n",
    "        return\n",
    "    else:\n",
    "        print(\"outside the triangle\")\n",
    "        return\n",
    "x=float(input(\"enter the point for x axis \"))\n",
    "y=float(input(\"enter the point for y axis \"))\n",
    "inside_triangle(x,y)"
   ]
  },
  {
   "cell_type": "markdown",
   "id": "25674472",
   "metadata": {},
   "source": [
    "Q7. Write a function `letter_grader(percent)`, where grade is the string ‘O’ if percent is greater than 80, ‘A’ if percent is greater than 70, ‘B‘ if percent is greater than 60, ‘C’ if percent is greater than 40, and ‘F’ if percent is less than 40. Grades exactly on the division should be included in the higher grade category."
   ]
  },
  {
   "cell_type": "code",
   "execution_count": 12,
   "id": "3f2b7081",
   "metadata": {},
   "outputs": [
    {
     "name": "stdout",
     "output_type": "stream",
     "text": [
      "enter your percentage:35\n",
      "F grade\n"
     ]
    }
   ],
   "source": [
    "def letter_grader(percent):\n",
    "    \"\"\"here grade is the string ‘O’ if percent is greater than 80, ‘A’ if percent is greater than 70,\n",
    "     ‘B‘ if percent is greater than 60, ‘C’ if percent is greater than 40, and ‘F’ if percent is less than 40. \n",
    "    Grades exactly on the division should be included in the higher grade category.\n",
    "    date: 3/4/2022\n",
    "    author: Aharneish Abburu\"\"\"\n",
    "    if percent>80 or percent==80:\n",
    "        print('O grade')\n",
    "    elif percent>70 or percent==70:\n",
    "        print('A grade')\n",
    "    elif percent>60 or percent==60:\n",
    "        print('B grade')\n",
    "    elif percent>40 or percent==40:\n",
    "        print('C grade')\n",
    "    elif percent<40:\n",
    "        print('F grade')\n",
    "percent=int(input(\"enter your percentage:\"))\n",
    "letter_grader(percent)"
   ]
  },
  {
   "cell_type": "markdown",
   "id": "48a70b58",
   "metadata": {},
   "source": [
    "Q8. Consider a nuclear reactor whose temperature is monitored by three sensors. An alarm should go off if any two of the sensor readings disagree. Write a function `nuke_alarm(s1,s2,s3)` where s1, s2, and s3 are the temperature readings for sensor 1, sensor 2, and sensor 3, respectively. The output should be the string ‘alarm!’ if any two of the temperature readings disagree by strictly more than 10 degrees and ‘normal’ otherwise."
   ]
  },
  {
   "cell_type": "code",
   "execution_count": 13,
   "id": "059e7490",
   "metadata": {},
   "outputs": [
    {
     "name": "stdout",
     "output_type": "stream",
     "text": [
      "enter the temperature of the first thermostat: 100.3\n",
      "enter the temperature of the second thermostat: 123\n",
      "enter the temperature of the third thermostat: 101\n",
      "Alarm!!!!\n"
     ]
    }
   ],
   "source": [
    "def nuke_alarm(s1,s2,s3):\n",
    "    \"\"\"Consider a nuclear reactor whose temperature is monitored by three sensors. An alarm should go off if any two of the sensor readings disagree.\n",
    "    where s1, s2, and s3 are the temperature readings for sensor 1, sensor 2, and sensor 3, respectively.\n",
    "     The output should be the string ‘alarm!’ if any two of the temperature readings disagree by strictly more than 10 degrees and ‘normal’ otherwise.\n",
    "    date:4/8/2022\n",
    "    author:Aharneish Abburu\"\"\"\n",
    "    if s1-s2>10 or s1-s3>10 or s2-s3 >10:\n",
    "        print(\"Alarm!!!!\")\n",
    "    else:\n",
    "        print(\"Safe operating tempratures\")\n",
    "s1=float(input(\"enter the temperature of the first thermostat: \"))\n",
    "s2=float(input(\"enter the temperature of the second thermostat: \"))\n",
    "s3=float(input(\"enter the temperature of the third thermostat: \"))\n",
    "nuke_alarm(s1,s2,s3)"
   ]
  },
  {
   "cell_type": "markdown",
   "id": "9914e370",
   "metadata": {},
   "source": [
    "Q9.  Write a function `n_odds(x)`, where $x$ is a one-dimensional array of floats and the output is the number of odd numbers in $x.$"
   ]
  },
  {
   "cell_type": "code",
   "execution_count": 5,
   "id": "96d305c0",
   "metadata": {},
   "outputs": [
    {
     "data": {
      "text/plain": [
       "4"
      ]
     },
     "execution_count": 5,
     "metadata": {},
     "output_type": "execute_result"
    }
   ],
   "source": [
    "def n_odds(x):\n",
    "    \"\"\"𝑥  is a one-dimensional array of integers and the output is the number of odd numbers in 𝑥.\n",
    "    date: 4/8/2022\n",
    "    author: Aharneish Abburu\"\"\"\n",
    "    count=0\n",
    "    for i in range(len(x)):\n",
    "        if (x[i]%2)!=0:\n",
    "           count+=1\n",
    "    return count\n",
    "x=[1,12,3,4,56,8,56,31,21]\n",
    "#for i in range(0,100):\n",
    "    #x.append(float(i))\n",
    "n_odds(x)"
   ]
  },
  {
   "cell_type": "markdown",
   "id": "4d823451",
   "metadata": {},
   "source": [
    "Q10. Write a function `vol_cylinder(r,h)`, where $r$ and $h$ are the radius and height of a cylinder, respectively, and the output is a list $[s, v]$ where $s$ and $v$ are the surface area and volume of the same cylinder, respectively. Recall that the surface area of a cylinder is $2πr^2+2πrh,$ and the volume is $πr^2h.$    Assume that $r$ and $h$ are 1 by 1 float."
   ]
  },
  {
   "cell_type": "code",
   "execution_count": 20,
   "id": "d17b4f55",
   "metadata": {},
   "outputs": [
    {
     "name": "stdout",
     "output_type": "stream",
     "text": [
      "[6.283185307179586, 6.283185307179586]\n"
     ]
    }
   ],
   "source": [
    "import math\n",
    "def vol_cylinder(r,h):\n",
    "    \"\"\"where  𝑟  and  ℎ  are the radius and height of a cylinder, respectively, and the output is a list  [𝑠,𝑣]  where  𝑠  and  𝑣  are the surface area and volume of the same cylinder, respectively.\n",
    "     Recall that the surface area of a cylinder is  2π𝑟2+2π𝑟ℎ,  and the volume is  π𝑟2ℎ.  Assume that  𝑟  and  ℎ  are 1 by 1 float.\n",
    "    date:4/8/2022\n",
    "    author:Aharneish Abburu\"\"\"\n",
    "    sa=2*math.pi*r**2\n",
    "    v=2*math.pi*r*h\n",
    "    ans=[sa,v]\n",
    "    return ans\n",
    "r=1.0\n",
    "h=1.0\n",
    "print(vol_cylinder(r,h))"
   ]
  },
  {
   "cell_type": "code",
   "execution_count": null,
   "id": "d9aa7298",
   "metadata": {},
   "outputs": [],
   "source": []
  }
 ],
 "metadata": {
  "kernelspec": {
   "display_name": "Python 3 (ipykernel)",
   "language": "python",
   "name": "python3"
  },
  "language_info": {
   "codemirror_mode": {
    "name": "ipython",
    "version": 3
   },
   "file_extension": ".py",
   "mimetype": "text/x-python",
   "name": "python",
   "nbconvert_exporter": "python",
   "pygments_lexer": "ipython3",
   "version": "3.9.13"
  },
  "vscode": {
   "interpreter": {
    "hash": "a351977ee7b04894121f5cde6ee8599f2048b7534d4382db8d533ca73fe19004"
   }
  }
 },
 "nbformat": 4,
 "nbformat_minor": 5
}
