{
 "cells": [
  {
   "cell_type": "markdown",
   "id": "8586ac61",
   "metadata": {},
   "source": [
    "## newton rapshon method of finding roots for a given function"
   ]
  },
  {
   "cell_type": "code",
   "execution_count": 7,
   "id": "dc5fdf71",
   "metadata": {},
   "outputs": [
    {
     "data": {
      "text/plain": [
       "'given a function lets say x^3-X^2+2 we derive the function\\nand then find the k+1th x value till the desired error is reached,\\nthen the iterations are terminated and we get the root that is closer to the actual root]\\nuseful in estimating the critcal points in the equation'"
      ]
     },
     "execution_count": 7,
     "metadata": {},
     "output_type": "execute_result"
    }
   ],
   "source": [
    "\"\"\"given a function lets say x^3-X^2+2 we derive the function\n",
    "and then find the k+1th x value till the desired error is reached,\n",
    "then the iterations are terminated and we get the root that is closer to the actual root]\n",
    "useful in estimating the critcal points in the equation\"\"\""
   ]
  },
  {
   "cell_type": "code",
   "execution_count": 8,
   "id": "5569904b",
   "metadata": {},
   "outputs": [
    {
     "data": {
      "text/plain": [
       "\"formula xn+1=xn-(f(xn)/f'(xn))\""
      ]
     },
     "execution_count": 8,
     "metadata": {},
     "output_type": "execute_result"
    }
   ],
   "source": [
    "\"formula xn+1=xn-(f(xn)/f'(xn))\""
   ]
  },
  {
   "cell_type": "code",
   "execution_count": 27,
   "id": "ff03b890",
   "metadata": {},
   "outputs": [],
   "source": [
    "def function_defination(x):\n",
    "    #this function rerturns a polynomial or a funcion\n",
    "    #date: 29-07-22\n",
    "    #name: Aharneish Abburu\n",
    "    return(x*x*x-5*x*x+2)"
   ]
  },
  {
   "cell_type": "code",
   "execution_count": 28,
   "id": "8c902953",
   "metadata": {},
   "outputs": [],
   "source": [
    "def derivative(x):\n",
    "    #this returns the derivstive of the above function \n",
    "    #date: 29-07-22\n",
    "    #name: Aharneish Abburu\n",
    "    return(3*x*x-10*x)"
   ]
  },
  {
   "cell_type": "code",
   "execution_count": 32,
   "id": "adf98e2f",
   "metadata": {},
   "outputs": [],
   "source": [
    "# Function to find the root\n",
    "def newtonRaphson( x ):\n",
    "    h = function_defination(x) / derivative(x)\n",
    "    while abs(h) >= 0.000001:\n",
    "        h = function_defination(x)/derivative(x)\n",
    "        # x(i+1) = x(i) - f(x) / f'(x)\n",
    "        x = x - h\n",
    "        print(\"The value of the root is : \",\n",
    "                             \"%.4f\"% x)"
   ]
  },
  {
   "cell_type": "code",
   "execution_count": 33,
   "id": "84e0d285",
   "metadata": {},
   "outputs": [
    {
     "name": "stdout",
     "output_type": "stream",
     "text": [
      "The value of the root is :  7.4900\n",
      "The value of the root is :  5.9730\n",
      "The value of the root is :  5.1968\n",
      "The value of the root is :  4.9450\n",
      "The value of the root is :  4.9176\n",
      "The value of the root is :  4.9173\n",
      "The value of the root is :  4.9173\n"
     ]
    }
   ],
   "source": [
    "# Driver program to test above\n",
    "x0 = 10 # Initial values assumed\n",
    "newtonRaphson(x0)"
   ]
  },
  {
   "cell_type": "code",
   "execution_count": null,
   "id": "9f610eb5",
   "metadata": {},
   "outputs": [],
   "source": []
  },
  {
   "cell_type": "code",
   "execution_count": null,
   "id": "937aa139",
   "metadata": {},
   "outputs": [],
   "source": []
  }
 ],
 "metadata": {
  "kernelspec": {
   "display_name": "Python 3 (ipykernel)",
   "language": "python",
   "name": "python3"
  },
  "language_info": {
   "codemirror_mode": {
    "name": "ipython",
    "version": 3
   },
   "file_extension": ".py",
   "mimetype": "text/x-python",
   "name": "python",
   "nbconvert_exporter": "python",
   "pygments_lexer": "ipython3",
   "version": "3.9.13"
  }
 },
 "nbformat": 4,
 "nbformat_minor": 5
}
