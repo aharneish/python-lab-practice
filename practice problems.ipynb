{
 "cells": [
  {
   "cell_type": "code",
   "execution_count": 1,
   "id": "0cb2d802",
   "metadata": {},
   "outputs": [],
   "source": [
    "#2. Write a program in Python to produce Star triangle."
   ]
  },
  {
   "cell_type": "code",
   "execution_count": 2,
   "id": "2efda3e8",
   "metadata": {},
   "outputs": [],
   "source": [
    "def star(n):\n",
    "    #this program is for printing a triangle using stars\n",
    "    #author: Aharneish Abburu\n",
    "    #date:30/07/2022\n",
    "    for i in range(0,n):\n",
    "        for j in range(0,i+1):\n",
    "            print(\"*\",end=\"\")\n",
    "        print(\"\\r\")"
   ]
  },
  {
   "cell_type": "code",
   "execution_count": 3,
   "id": "a05bd8f6",
   "metadata": {},
   "outputs": [
    {
     "name": "stdout",
     "output_type": "stream",
     "text": [
      "*\r\n",
      "**\r\n",
      "***\r\n",
      "****\r\n",
      "*****\r\n",
      "******\r\n",
      "*******\r\n",
      "********\r\n",
      "*********\r\n",
      "**********\r\n"
     ]
    }
   ],
   "source": [
    "star(10)"
   ]
  },
  {
   "cell_type": "code",
   "execution_count": 4,
   "id": "be8076ab",
   "metadata": {},
   "outputs": [],
   "source": [
    "#1. Write a program to execute the Bubble sort algorithm."
   ]
  },
  {
   "cell_type": "markdown",
   "id": "f25fb948",
   "metadata": {},
   "source": [
    "bubble sort is a sorting algorithm which takes in an unsorted array and retruns a sorted array.\n",
    "the array is divied into many divisions and the array"
   ]
  },
  {
   "cell_type": "code",
   "execution_count": 5,
   "id": "702a30e1",
   "metadata": {},
   "outputs": [],
   "source": [
    "def bubble(a):\n",
    "    #this program is sorting an array using the sorting algorithm 'bubble sort'\n",
    "    #author: Aharneish Abburu\n",
    "    #date:1/08/2022\n",
    "    for i in range(len(a)):\n",
    "        for j in range(0,len(a)-i-1):\n",
    "            if a[j]>a[j+1]:\n",
    "                temp=a[j]\n",
    "                a[j]=a[j+1]\n",
    "                a[j+1]=temp"
   ]
  },
  {
   "cell_type": "code",
   "execution_count": 6,
   "id": "19d2a3d5",
   "metadata": {
    "scrolled": true
   },
   "outputs": [
    {
     "name": "stdout",
     "output_type": "stream",
     "text": [
      "[-1, 0, 0, 23, 34, 45, 67, 1, 4]\n",
      "[-1, 0, 0, 1, 4, 23, 34, 45, 67]\n"
     ]
    }
   ],
   "source": [
    "d=[-1,0,0,23,34,45,67,1,4]\n",
    "print(d)\n",
    "bubble(d)\n",
    "print(d)"
   ]
  },
  {
   "cell_type": "code",
   "execution_count": 7,
   "id": "72a28a9e",
   "metadata": {},
   "outputs": [],
   "source": [
    "#Write a program to produce Fibonacci series in Python."
   ]
  },
  {
   "cell_type": "code",
   "execution_count": 8,
   "id": "d1a1cd67",
   "metadata": {},
   "outputs": [
    {
     "name": "stdout",
     "output_type": "stream",
     "text": [
      "enter the number you want the fibonacii series for: 6\n",
      "None\n"
     ]
    }
   ],
   "source": [
    "def fibonacii(n):\n",
    "    #this program is to find the fibonacii series for the given number\n",
    "    #author: Aharneish Abburu\n",
    "    #date:1/08/2022\n",
    "    pass\n",
    "p=int(input(\"enter the number you want the fibonacii series for: \"))\n",
    "print(fibonacii(p)) "
   ]
  },
  {
   "cell_type": "code",
   "execution_count": 9,
   "id": "2c8f097a",
   "metadata": {},
   "outputs": [],
   "source": [
    "#4 write a program to check if the given number is a prime number or not"
   ]
  },
  {
   "cell_type": "code",
   "execution_count": 10,
   "id": "221010c3",
   "metadata": {},
   "outputs": [
    {
     "name": "stdout",
     "output_type": "stream",
     "text": [
      "enter the number you want to check prime for: 3\n",
      "None\n"
     ]
    }
   ],
   "source": [
    "def primeNo(a):\n",
    "    if a>1:\n",
    "        for i in range(2,int(a/2)+1):\n",
    "            if a%i==0:\n",
    "                return False\n",
    "            else:\n",
    "                return True\n",
    "    else:\n",
    "        return False\n",
    "num=int(input(\"enter the number you want to check prime for: \"))\n",
    "print(primeNo(num))"
   ]
  },
  {
   "cell_type": "code",
   "execution_count": 11,
   "id": "24bc8cc2",
   "metadata": {},
   "outputs": [],
   "source": [
    "#14. Write a short Python function that counts the number of vowels in a given character string."
   ]
  },
  {
   "cell_type": "code",
   "execution_count": 12,
   "id": "2c81bb25",
   "metadata": {},
   "outputs": [
    {
     "name": "stdout",
     "output_type": "stream",
     "text": [
      "enter the string: kjcv SODVN\n",
      "0\n"
     ]
    }
   ],
   "source": [
    "def vowelCount(l1):\n",
    "    count=0\n",
    "    for j in range(0,len(l1)):\n",
    "        if 'a'==l1[j]or'e'==l1[j]or'i'==l1[j]or'o'==l1[j]or'u'==l1[j]:\n",
    "            count=count+1\n",
    "    print(count)\n",
    "l1=input(\"enter the string: \")\n",
    "vowelCount(l1)"
   ]
  },
  {
   "cell_type": "markdown",
   "id": "f93d28ad",
   "metadata": {},
   "source": [
    "Write a Python program that can take a positive integer greater than 2 as input and write out the number of times one must repeatedly divide this number by 2 before getting a value less than 2"
   ]
  },
  {
   "cell_type": "code",
   "execution_count": 15,
   "id": "70cf5aa0",
   "metadata": {},
   "outputs": [
    {
     "name": "stdout",
     "output_type": "stream",
     "text": [
      "enter the number to get the count of how many times it must be divided to get lessthan 2: 36\n",
      "3\n"
     ]
    }
   ],
   "source": [
    "def count_Div(n):\n",
    "    c=0\n",
    "    if n==2:\n",
    "        return 0\n",
    "    else:\n",
    "        while n>2:\n",
    "            if n%2!=0:\n",
    "               c+=1\n",
    "            n=n/2\n",
    "    return c\n",
    "n=int(input(\"enter the number to get the count of how many times it must be divided to get lessthan 2: \"))\n",
    "print(count_Div(n))"
   ]
  },
  {
   "cell_type": "markdown",
   "id": "d21f4821",
   "metadata": {},
   "source": [
    "20. Write a program to calculate area of a triangle using Heron's formulea."
   ]
  },
  {
   "cell_type": "code",
   "execution_count": 16,
   "id": "dd983a22",
   "metadata": {},
   "outputs": [
    {
     "name": "stdout",
     "output_type": "stream",
     "text": [
      "enter the first side: 69\n",
      "enter the second side: 12\n",
      "enter the third side: 36\n"
     ]
    },
    {
     "ename": "ValueError",
     "evalue": "math domain error",
     "output_type": "error",
     "traceback": [
      "\u001b[1;31m---------------------------------------------------------------------------\u001b[0m",
      "\u001b[1;31mValueError\u001b[0m                                Traceback (most recent call last)",
      "Input \u001b[1;32mIn [16]\u001b[0m, in \u001b[0;36m<cell line: 9>\u001b[1;34m()\u001b[0m\n\u001b[0;32m      7\u001b[0m b\u001b[38;5;241m=\u001b[39m\u001b[38;5;28mint\u001b[39m(\u001b[38;5;28minput\u001b[39m(\u001b[38;5;124m\"\u001b[39m\u001b[38;5;124menter the second side: \u001b[39m\u001b[38;5;124m\"\u001b[39m))\n\u001b[0;32m      8\u001b[0m c\u001b[38;5;241m=\u001b[39m\u001b[38;5;28mint\u001b[39m(\u001b[38;5;28minput\u001b[39m(\u001b[38;5;124m\"\u001b[39m\u001b[38;5;124menter the third side: \u001b[39m\u001b[38;5;124m\"\u001b[39m))\n\u001b[1;32m----> 9\u001b[0m \u001b[43mherons\u001b[49m\u001b[43m(\u001b[49m\u001b[43ma\u001b[49m\u001b[43m,\u001b[49m\u001b[43mb\u001b[49m\u001b[43m,\u001b[49m\u001b[43mc\u001b[49m\u001b[43m)\u001b[49m\n",
      "Input \u001b[1;32mIn [16]\u001b[0m, in \u001b[0;36mherons\u001b[1;34m(a, b, c)\u001b[0m\n\u001b[0;32m      2\u001b[0m \u001b[38;5;28;01mdef\u001b[39;00m \u001b[38;5;21mherons\u001b[39m(a,b,c):\n\u001b[0;32m      3\u001b[0m     s\u001b[38;5;241m=\u001b[39m(a\u001b[38;5;241m+\u001b[39mb\u001b[38;5;241m+\u001b[39mc)\u001b[38;5;241m/\u001b[39m\u001b[38;5;241m2\u001b[39m\n\u001b[1;32m----> 4\u001b[0m     dist\u001b[38;5;241m=\u001b[39m\u001b[43mmath\u001b[49m\u001b[38;5;241;43m.\u001b[39;49m\u001b[43msqrt\u001b[49m\u001b[43m(\u001b[49m\u001b[43ms\u001b[49m\u001b[38;5;241;43m*\u001b[39;49m\u001b[43m(\u001b[49m\u001b[43ms\u001b[49m\u001b[38;5;241;43m-\u001b[39;49m\u001b[43ma\u001b[49m\u001b[43m)\u001b[49m\u001b[38;5;241;43m*\u001b[39;49m\u001b[43m(\u001b[49m\u001b[43ms\u001b[49m\u001b[38;5;241;43m-\u001b[39;49m\u001b[43mb\u001b[49m\u001b[43m)\u001b[49m\u001b[38;5;241;43m*\u001b[39;49m\u001b[43m(\u001b[49m\u001b[43ms\u001b[49m\u001b[38;5;241;43m-\u001b[39;49m\u001b[43mc\u001b[49m\u001b[43m)\u001b[49m\u001b[43m)\u001b[49m\n\u001b[0;32m      5\u001b[0m     \u001b[38;5;28mprint\u001b[39m(\u001b[38;5;124mf\u001b[39m\u001b[38;5;124m\"\u001b[39m\u001b[38;5;124mthe area of the triangle is \u001b[39m\u001b[38;5;132;01m{\u001b[39;00mdist\u001b[38;5;132;01m}\u001b[39;00m\u001b[38;5;124m\"\u001b[39m)\n",
      "\u001b[1;31mValueError\u001b[0m: math domain error"
     ]
    }
   ],
   "source": [
    "import math\n",
    "def herons(a,b,c):\n",
    "    s=(a+b+c)/2\n",
    "    dist=math.sqrt(s*(s-a)*(s-b)*(s-c))\n",
    "    print(f\"the area of the triangle is {dist}\")\n",
    "a=int(input(\"enter the first side: \"))\n",
    "b=int(input(\"enter the second side: \"))\n",
    "c=int(input(\"enter the third side: \"))\n",
    "herons(a,b,c)"
   ]
  },
  {
   "cell_type": "markdown",
   "id": "55c06471",
   "metadata": {},
   "source": [
    "21. Write a program to calculate the distance between two points."
   ]
  },
  {
   "cell_type": "code",
   "execution_count": 17,
   "id": "a8ce5a83",
   "metadata": {},
   "outputs": [
    {
     "name": "stdout",
     "output_type": "stream",
     "text": [
      "5.0\n"
     ]
    }
   ],
   "source": [
    "from math import *\n",
    "def dist(x,y):\n",
    "    ans=0\n",
    "    for i in range(len(x)):\n",
    "        ans+=sqrt((x[i]-y[i])**2)\n",
    "    return ans\n",
    "x=[1,2,3]\n",
    "y=[2,3,6]\n",
    "print(dist(x,y))"
   ]
  },
  {
   "cell_type": "markdown",
   "id": "45b3de78",
   "metadata": {},
   "source": [
    "24. Write a program to convert degrees fahrenheit into degrees celsius."
   ]
  },
  {
   "cell_type": "code",
   "execution_count": 18,
   "id": "f69e20d3",
   "metadata": {},
   "outputs": [
    {
     "name": "stdout",
     "output_type": "stream",
     "text": [
      "-17.77777777777778\n"
     ]
    }
   ],
   "source": [
    "def ftoC(a):\n",
    "    b=(a-32)*(5/9)\n",
    "    return b\n",
    "a=0\n",
    "print(ftoC(a))"
   ]
  },
  {
   "cell_type": "markdown",
   "id": "e7a37ea6",
   "metadata": {},
   "source": [
    "32. Write a program that calculates number of seconds in a day."
   ]
  },
  {
   "cell_type": "code",
   "execution_count": 19,
   "id": "3349e835",
   "metadata": {},
   "outputs": [
    {
     "name": "stdout",
     "output_type": "stream",
     "text": [
      "86400\n"
     ]
    }
   ],
   "source": [
    "day=24\n",
    "hour=60\n",
    "sec=60\n",
    "total_sec=sec*hour*day\n",
    "print(total_sec)"
   ]
  },
  {
   "cell_type": "markdown",
   "id": "5cd2518e",
   "metadata": {},
   "source": [
    "33. Write a program to determine whether a person is eligible to vote in INDIA."
   ]
  },
  {
   "cell_type": "code",
   "execution_count": 20,
   "id": "784d8507",
   "metadata": {},
   "outputs": [
    {
     "name": "stdout",
     "output_type": "stream",
     "text": [
      "enter your age: 36\n",
      "Congratalutions!! you are eligible to vote!!\n"
     ]
    }
   ],
   "source": [
    "age=int(input(\"enter your age: \"))\n",
    "if age<18:\n",
    "    print(\"not eligible to vote!!\")\n",
    "else:\n",
    "    print(\"Congratalutions!! you are eligible to vote!!\")"
   ]
  },
  {
   "cell_type": "markdown",
   "id": "ececfdc0",
   "metadata": {},
   "source": [
    "35. Write a program to find whether the given number is even or odd."
   ]
  },
  {
   "cell_type": "code",
   "execution_count": 21,
   "id": "5b4d38ef",
   "metadata": {},
   "outputs": [
    {
     "name": "stdout",
     "output_type": "stream",
     "text": [
      "enter the number to check wether it is odd or not:654\n",
      "654 is an even number\n"
     ]
    }
   ],
   "source": [
    "def oddorEven(n):\n",
    "    if n%2==0:\n",
    "        return True\n",
    "    else:\n",
    "        return False\n",
    "n=int(input(\"enter the number to check wether it is odd or not:\"))\n",
    "k=oddorEven(n)\n",
    "if k==True:\n",
    "    print(f\"{n} is an even number\")\n",
    "else:\n",
    "    print(f\"{n} is an odd number\")"
   ]
  },
  {
   "cell_type": "markdown",
   "id": "c678ca99",
   "metadata": {},
   "source": [
    "56. Write a program using a function that returns the area and circumference of a circle whose radius is passed as an argument."
   ]
  },
  {
   "cell_type": "code",
   "execution_count": 22,
   "id": "b0adf511",
   "metadata": {},
   "outputs": [
    {
     "name": "stdout",
     "output_type": "stream",
     "text": [
      "314.1592653589793\n",
      "62.83185307179586\n"
     ]
    }
   ],
   "source": [
    "from math import *\n",
    "def areaCircumference(radius):\n",
    "    area=pi*radius**2\n",
    "    circumference=2*pi*radius\n",
    "    print(area)\n",
    "    print(circumference)\n",
    "r=10\n",
    "areaCircumference(r)"
   ]
  },
  {
   "cell_type": "markdown",
   "id": "ca244839",
   "metadata": {},
   "source": [
    "47. Write a program that displays all the numbers from 1-100 that are not divisible 2 as well as by 3."
   ]
  },
  {
   "cell_type": "code",
   "execution_count": 23,
   "id": "d1d146ce",
   "metadata": {},
   "outputs": [
    {
     "name": "stdout",
     "output_type": "stream",
     "text": [
      "[1, 5, 7, 11, 13, 17, 19, 23, 25, 29, 31, 35, 37, 41, 43, 47, 49, 53, 55, 59, 61, 65, 67, 71, 73, 77, 79, 83, 85, 89, 91, 95, 97]\n"
     ]
    }
   ],
   "source": [
    "l1=[]\n",
    "for i in range(0,101):\n",
    "    if i%2!=0 and i%3!=0:\n",
    "        l1.append(i)\n",
    "print(l1)"
   ]
  },
  {
   "cell_type": "markdown",
   "id": "7c550fdf",
   "metadata": {},
   "source": [
    "43. Write a program to print the multiplication table of $n,$ where $n$ is entered by the user."
   ]
  },
  {
   "cell_type": "code",
   "execution_count": 24,
   "id": "2d095910",
   "metadata": {},
   "outputs": [
    {
     "name": "stdout",
     "output_type": "stream",
     "text": [
      "enter the number for the multiplication table(goes till n*100):26\n",
      "26*0=0\n",
      "26*1=26\n",
      "26*2=52\n",
      "26*3=78\n",
      "26*4=104\n",
      "26*5=130\n",
      "26*6=156\n",
      "26*7=182\n",
      "26*8=208\n",
      "26*9=234\n",
      "26*10=260\n",
      "26*11=286\n",
      "26*12=312\n",
      "26*13=338\n",
      "26*14=364\n",
      "26*15=390\n",
      "26*16=416\n",
      "26*17=442\n",
      "26*18=468\n",
      "26*19=494\n",
      "26*20=520\n",
      "26*21=546\n",
      "26*22=572\n",
      "26*23=598\n",
      "26*24=624\n",
      "26*25=650\n",
      "26*26=676\n",
      "26*27=702\n",
      "26*28=728\n",
      "26*29=754\n",
      "26*30=780\n",
      "26*31=806\n",
      "26*32=832\n",
      "26*33=858\n",
      "26*34=884\n",
      "26*35=910\n",
      "26*36=936\n",
      "26*37=962\n",
      "26*38=988\n",
      "26*39=1014\n",
      "26*40=1040\n",
      "26*41=1066\n",
      "26*42=1092\n",
      "26*43=1118\n",
      "26*44=1144\n",
      "26*45=1170\n",
      "26*46=1196\n",
      "26*47=1222\n",
      "26*48=1248\n",
      "26*49=1274\n",
      "26*50=1300\n",
      "26*51=1326\n",
      "26*52=1352\n",
      "26*53=1378\n",
      "26*54=1404\n",
      "26*55=1430\n",
      "26*56=1456\n",
      "26*57=1482\n",
      "26*58=1508\n",
      "26*59=1534\n",
      "26*60=1560\n",
      "26*61=1586\n",
      "26*62=1612\n",
      "26*63=1638\n",
      "26*64=1664\n",
      "26*65=1690\n",
      "26*66=1716\n",
      "26*67=1742\n",
      "26*68=1768\n",
      "26*69=1794\n",
      "26*70=1820\n",
      "26*71=1846\n",
      "26*72=1872\n",
      "26*73=1898\n",
      "26*74=1924\n",
      "26*75=1950\n",
      "26*76=1976\n",
      "26*77=2002\n",
      "26*78=2028\n",
      "26*79=2054\n",
      "26*80=2080\n",
      "26*81=2106\n",
      "26*82=2132\n",
      "26*83=2158\n",
      "26*84=2184\n",
      "26*85=2210\n",
      "26*86=2236\n",
      "26*87=2262\n",
      "26*88=2288\n",
      "26*89=2314\n",
      "26*90=2340\n",
      "26*91=2366\n",
      "26*92=2392\n",
      "26*93=2418\n",
      "26*94=2444\n",
      "26*95=2470\n",
      "26*96=2496\n",
      "26*97=2522\n",
      "26*98=2548\n",
      "26*99=2574\n",
      "26*100=2600\n"
     ]
    }
   ],
   "source": [
    "n=int(input(\"enter the number for the multiplication table(goes till n*100):\"))\n",
    "for i in range(0,101):\n",
    "    print(f\"{n}*{i}={n*i}\")"
   ]
  },
  {
   "cell_type": "markdown",
   "id": "17e2c96a",
   "metadata": {},
   "source": [
    "38. Write a program to calculate the sum and average of first 10 numbers."
   ]
  },
  {
   "cell_type": "code",
   "execution_count": 25,
   "id": "794f94fb",
   "metadata": {},
   "outputs": [
    {
     "name": "stdout",
     "output_type": "stream",
     "text": [
      "the sum of first 10 numbers is 55\n",
      "the average of the first 10 numbers is 5.5\n"
     ]
    }
   ],
   "source": [
    "sum=0\n",
    "avg=0\n",
    "for i in range(1,11):\n",
    "    sum=sum+i\n",
    "avg=sum/10\n",
    "print(f\"the sum of first 10 numbers is {sum}\")\n",
    "print(f\"the average of the first 10 numbers is {avg}\")"
   ]
  },
  {
   "cell_type": "markdown",
   "id": "c4968e54",
   "metadata": {},
   "source": [
    "39. Write a program to calculate the sum of numbers from $m$ to $n.$"
   ]
  },
  {
   "cell_type": "code",
   "execution_count": 26,
   "id": "69c53e66",
   "metadata": {},
   "outputs": [
    {
     "name": "stdout",
     "output_type": "stream",
     "text": [
      "enter the number you want the sum from: 36\n",
      "enter the number you want the sum until: 15\n",
      "0\n"
     ]
    }
   ],
   "source": [
    "def sumOf(m,n):\n",
    "    ans=0\n",
    "    for i in range(m,n):\n",
    "        ans+=i\n",
    "    print(ans)\n",
    "m=int(input(\"enter the number you want the sum from: \"))\n",
    "n=int(input(\"enter the number you want the sum until: \"))\n",
    "sumOf(m,n)"
   ]
  },
  {
   "cell_type": "markdown",
   "id": "7aec497e",
   "metadata": {},
   "source": [
    "40. Write a program to enter a number and then check whether it is divisible by 3 or not."
   ]
  },
  {
   "cell_type": "code",
   "execution_count": 27,
   "id": "dc5c3e7c",
   "metadata": {},
   "outputs": [
    {
     "name": "stdout",
     "output_type": "stream",
     "text": [
      "enter the number to check its divizibility by 3: 3698\n",
      "not it is not divsible by 3\n"
     ]
    }
   ],
   "source": [
    "n=int(input(\"enter the number to check its divizibility by 3: \"))\n",
    "if n%3==0:\n",
    "    print(\"yes it is divsible by 3\")\n",
    "else:\n",
    "    print(\"not it is not divsible by 3\")"
   ]
  },
  {
   "cell_type": "markdown",
   "id": "a06ff6cb",
   "metadata": {},
   "source": [
    "42. Write a program to print the reverse of a number."
   ]
  },
  {
   "cell_type": "code",
   "execution_count": 2,
   "id": "368319eb",
   "metadata": {},
   "outputs": [
    {
     "name": "stdout",
     "output_type": "stream",
     "text": [
      "enter the number: 65\n",
      "56\n"
     ]
    }
   ],
   "source": [
    "n=int(input(\"enter the number: \"))\n",
    "revNum=0\n",
    "while n>0:\n",
    "    temp=n%10\n",
    "    revNum=(revNum*10)+temp\n",
    "    n//=10\n",
    "print(revNum)"
   ]
  },
  {
   "cell_type": "code",
   "execution_count": 6,
   "id": "fe68ba1b",
   "metadata": {},
   "outputs": [
    {
     "name": "stdout",
     "output_type": "stream",
     "text": [
      "enter the country you want to check if it is a part of BRICS? India\n",
      "yes it is a part of the BRICS\n"
     ]
    }
   ],
   "source": [
    "BRICS=('Brazil','Russia','India','China','South Africa')\n",
    "country=input(\"enter the country you want to check if it is a part of BRICS? \")\n",
    "for i in range(len(BRICS)):\n",
    "    if country==BRICS[i]:\n",
    "        print(\"yes it is a part of the BRICS\")\n",
    "        break\n",
    "    else:\n",
    "        continue\n"
   ]
  },
  {
   "cell_type": "code",
   "execution_count": null,
   "id": "8e2105c0",
   "metadata": {},
   "outputs": [],
   "source": []
  },
  {
   "cell_type": "code",
   "execution_count": null,
   "id": "4d929413",
   "metadata": {},
   "outputs": [],
   "source": []
  },
  {
   "cell_type": "code",
   "execution_count": null,
   "id": "2e860511",
   "metadata": {},
   "outputs": [],
   "source": []
  },
  {
   "cell_type": "code",
   "execution_count": null,
   "id": "52e72826",
   "metadata": {},
   "outputs": [],
   "source": []
  },
  {
   "cell_type": "code",
   "execution_count": null,
   "id": "080ff21b",
   "metadata": {},
   "outputs": [],
   "source": []
  },
  {
   "cell_type": "code",
   "execution_count": null,
   "id": "b79915c6",
   "metadata": {},
   "outputs": [],
   "source": []
  }
 ],
 "metadata": {
  "kernelspec": {
   "display_name": "Python 3 (ipykernel)",
   "language": "python",
   "name": "python3"
  },
  "language_info": {
   "codemirror_mode": {
    "name": "ipython",
    "version": 3
   },
   "file_extension": ".py",
   "mimetype": "text/x-python",
   "name": "python",
   "nbconvert_exporter": "python",
   "pygments_lexer": "ipython3",
   "version": "3.9.13"
  },
  "vscode": {
   "interpreter": {
    "hash": "a351977ee7b04894121f5cde6ee8599f2048b7534d4382db8d533ca73fe19004"
   }
  }
 },
 "nbformat": 4,
 "nbformat_minor": 5
}
